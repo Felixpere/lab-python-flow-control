{
 "cells": [
  {
   "cell_type": "markdown",
   "id": "d3bfc191-8885-42ee-b0a0-bbab867c6f9f",
   "metadata": {
    "tags": []
   },
   "source": [
    "# Lab | Flow Control"
   ]
  },
  {
   "cell_type": "markdown",
   "id": "3851fcd1-cf98-4653-9c89-e003b7ec9400",
   "metadata": {},
   "source": [
    "## Exercise: Managing Customer Orders Optimized\n",
    "\n",
    "In the last lab, you were starting an online store that sells various products. To ensure smooth operations, you developed a program that manages customer orders and inventory.\n",
    "\n",
    "You did so without using flow control. Let's go a step further and improve this code.\n",
    "\n",
    "Follow the steps below to complete the exercise:\n",
    "\n",
    "1. Look at your code from the lab data structures, and improve repeated code with loops.\n",
    "\n",
    "2. Instead of asking the user to input the name of three products that a customer wants to order, do the following:\n",
    "    \n",
    "    a. Prompt the user to enter the name of a product that a customer wants to order.\n",
    "    \n",
    "    b. Add the product name to the \"customer_orders\" set.\n",
    "    \n",
    "    c. Ask the user if they want to add another product (yes/no).\n",
    "    \n",
    "    d. Continue the loop until the user does not want to add another product.\n",
    "\n",
    "3. Instead of updating the inventory by subtracting 1 from the quantity of each product, only do it for  the products that were ordered (those in \"customer_orders\")."
   ]
  },
  {
   "cell_type": "code",
   "execution_count": 29,
   "id": "f319f068-5e64-4000-85f5-436e9f2e1c03",
   "metadata": {},
   "outputs": [
    {
     "name": "stdout",
     "output_type": "stream",
     "text": [
      "Available products: ['t-shirt', 'mug', 'hat', 'book', 'keychain']\n"
     ]
    },
    {
     "name": "stdin",
     "output_type": "stream",
     "text": [
      "Enter a product name:  t-shirt\n"
     ]
    },
    {
     "name": "stdout",
     "output_type": "stream",
     "text": [
      "t-shirt added to your order.\n"
     ]
    },
    {
     "name": "stdin",
     "output_type": "stream",
     "text": [
      "Do you want to add another product? (yes/no):  no\n"
     ]
    }
   ],
   "source": [
    "#1.\n",
    "products = [\"t-shirt\", \"mug\", \"hat\", \"book\", \"keychain\"]\n",
    "customer_orders = []\n",
    "\n",
    "print(\"Available products:\", products)\n",
    "\n",
    "continue_ordering = \"yes\"\n",
    "\n",
    "while continue_ordering == \"yes\":\n",
    "    product = input(\"Enter a product name: \")\n",
    "\n",
    "    if product in products:\n",
    "        customer_orders.append(product)\n",
    "        print(product, \"added to your order.\")\n",
    "    else:\n",
    "        print(\"Invalid product. Please try again.\")\n",
    "\n",
    "    continue_ordering = input(\"Do you want to add another product? (yes/no): \").lower()\n",
    "\n",
    "    while continue_ordering not in [\"yes\", \"no\"]:\n",
    "        print(\"Please answer only 'yes' or 'no'.\")\n",
    "        continue_ordering = input(\"Do you want to add another product? (yes/no): \").lower()"
   ]
  },
  {
   "cell_type": "code",
   "execution_count": 31,
   "id": "06d15060-f324-4b24-9828-9709845e36c3",
   "metadata": {},
   "outputs": [
    {
     "name": "stdout",
     "output_type": "stream",
     "text": [
      "Updated Inventory:\n",
      "t-shirt: 9\n",
      "mug: 5\n",
      "hat: 7\n",
      "book: 8\n",
      "keychain: 4\n"
     ]
    }
   ],
   "source": [
    "#3\n",
    "inventory = {\n",
    "    \"t-shirt\": 10,\n",
    "    \"mug\": 5,\n",
    "    \"hat\": 7,\n",
    "    \"book\": 8,\n",
    "    \"keychain\": 4\n",
    "}\n",
    "\n",
    "for product_ordered in customer_orders:\n",
    "    if product_ordered in inventory and inventory[product_ordered] > 0:\n",
    "        inventory[product_ordered] -= 1\n",
    "\n",
    "print(\"Updated Inventory:\")\n",
    "for item in inventory:\n",
    "    print(item + \":\", inventory[item])"
   ]
  }
 ],
 "metadata": {
  "kernelspec": {
   "display_name": "Python 3 (ipykernel)",
   "language": "python",
   "name": "python3"
  },
  "language_info": {
   "codemirror_mode": {
    "name": "ipython",
    "version": 3
   },
   "file_extension": ".py",
   "mimetype": "text/x-python",
   "name": "python",
   "nbconvert_exporter": "python",
   "pygments_lexer": "ipython3",
   "version": "3.12.7"
  }
 },
 "nbformat": 4,
 "nbformat_minor": 5
}
